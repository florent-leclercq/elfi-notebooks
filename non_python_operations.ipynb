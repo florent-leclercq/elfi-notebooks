{
 "cells": [
  {
   "cell_type": "markdown",
   "metadata": {
    "toc": true
   },
   "source": [
    "<h1>Table of Contents<span class=\"tocSkip\"></span></h1>\n",
    "<div class=\"toc\"><ul class=\"toc-item\"><li><span><a href=\"#Using-non-Python-operations\" data-toc-modified-id=\"Using-non-Python-operations-1\"><span class=\"toc-item-num\">1&nbsp;&nbsp;</span>Using non-Python operations</a></span><ul class=\"toc-item\"><li><span><a href=\"#External-executables\" data-toc-modified-id=\"External-executables-1.1\"><span class=\"toc-item-num\">1.1&nbsp;&nbsp;</span>External executables</a></span></li><li><span><a href=\"#Complex-external-operations-$-$-case-BDM\" data-toc-modified-id=\"Complex-external-operations-$-$-case-BDM-1.2\"><span class=\"toc-item-num\">1.2&nbsp;&nbsp;</span>Complex external operations $-$ case BDM</a></span><ul class=\"toc-item\"><li><span><a href=\"#Birth-Death-Mutation-process\" data-toc-modified-id=\"Birth-Death-Mutation-process-1.2.1\"><span class=\"toc-item-num\">1.2.1&nbsp;&nbsp;</span>Birth-Death-Mutation process</a></span></li><li><span><a href=\"#Completing-the-BDM-model\" data-toc-modified-id=\"Completing-the-BDM-model-1.2.2\"><span class=\"toc-item-num\">1.2.2&nbsp;&nbsp;</span>Completing the BDM model</a></span></li></ul></li><li><span><a href=\"#Interfacing-with-R\" data-toc-modified-id=\"Interfacing-with-R-1.3\"><span class=\"toc-item-num\">1.3&nbsp;&nbsp;</span>Interfacing with R</a></span></li><li><span><a href=\"#Interfacing-with-MATLAB\" data-toc-modified-id=\"Interfacing-with-MATLAB-1.4\"><span class=\"toc-item-num\">1.4&nbsp;&nbsp;</span>Interfacing with MATLAB</a></span></li><li><span><a href=\"#Verdict\" data-toc-modified-id=\"Verdict-1.5\"><span class=\"toc-item-num\">1.5&nbsp;&nbsp;</span>Verdict</a></span><ul class=\"toc-item\"><li><span><a href=\"#References\" data-toc-modified-id=\"References-1.5.1\"><span class=\"toc-item-num\">1.5.1&nbsp;&nbsp;</span>References</a></span></li></ul></li></ul></li></ul></div>"
   ]
  },
  {
   "cell_type": "markdown",
   "metadata": {},
   "source": [
    "This tutorial is generated from a [Jupyter](http://jupyter.org/) notebook that can be found [here](https://github.com/elfi-dev/notebooks). "
   ]
  },
  {
   "cell_type": "markdown",
   "metadata": {},
   "source": [
    "# Using non-Python operations"
   ]
  },
  {
   "cell_type": "markdown",
   "metadata": {},
   "source": [
    "If your simulator or other operations are implemented in a programming language other than Python, you can still use ELFI. This notebook briefly demonstrates how to do this in three common scenarios:\n",
    "\n",
    "* External executable (written e.g. in C++ or a shell script)\n",
    "* R function\n",
    "* MATLAB function\n",
    "\n",
    "Let's begin by importing some libraries that we will be using:"
   ]
  },
  {
   "cell_type": "code",
   "execution_count": 1,
   "metadata": {
    "collapsed": true,
    "init_cell": true
   },
   "outputs": [],
   "source": [
    "import os\n",
    "import numpy as np\n",
    "import matplotlib\n",
    "import matplotlib.pyplot as plt\n",
    "import scipy.io as sio\n",
    "import scipy.stats as ss\n",
    "\n",
    "import elfi\n",
    "import elfi.examples.bdm\n",
    "import elfi.examples.ma2\n",
    "\n",
    "%matplotlib inline"
   ]
  },
  {
   "cell_type": "markdown",
   "metadata": {},
   "source": [
    ".. note:: To run some parts of this notebook you need to either compile the simulator, have R or MATLAB installed and install their respective wrapper libraries."
   ]
  },
  {
   "cell_type": "markdown",
   "metadata": {},
   "source": [
    "## External executables\n",
    "\n",
    "ELFI supports using external simulators and other operations that can be called from the command-line. ELFI provides some tools to easily incorporate such operations to ELFI models. This functionality is introduced in this tutorial.\n",
    "\n",
    "We demonstrate here how to wrap executables as ELFI nodes. We will first use `elfi.tools.external_operation` tool to wrap executables as a Python callables (function). Let's first investigate how it works with a simple shell `echo` command:"
   ]
  },
  {
   "cell_type": "code",
   "execution_count": 2,
   "metadata": {},
   "outputs": [
    {
     "data": {
      "text/plain": [
       "array([   3.,    1.,  123.])"
      ]
     },
     "execution_count": 2,
     "metadata": {},
     "output_type": "execute_result"
    }
   ],
   "source": [
    "# Make an external command. {0} {1} are positional arguments and {seed} a keyword argument `seed`.\n",
    "command = 'echo {0} {1} {seed}'\n",
    "echo_sim = elfi.tools.external_operation(command)\n",
    "\n",
    "# Test that `echo_sim` can now be called as a regular python function\n",
    "echo_sim(3, 1, seed=123)"
   ]
  },
  {
   "cell_type": "markdown",
   "metadata": {},
   "source": [
    "The placeholders for arguments in the command string are just Python's [`format strings`](https://docs.python.org/3/library/string.html#formatstrings).\n",
    "\n",
    "Currently `echo_sim` only accepts scalar arguments. In order to work in ELFI, `echo_sim` needs to be vectorized so that we can pass to it a vector of arguments. ELFI provides a handy tool for this as well:"
   ]
  },
  {
   "cell_type": "code",
   "execution_count": 3,
   "metadata": {},
   "outputs": [
    {
     "data": {
      "text/plain": [
       "array([[  1.42711034e+00,   0.00000000e+00,   1.82207039e+09],\n",
       "       [  4.79114659e-02,   0.00000000e+00,   1.82207039e+09],\n",
       "       [  1.30307639e+00,   0.00000000e+00,   1.82207039e+09]])"
      ]
     },
     "execution_count": 3,
     "metadata": {},
     "output_type": "execute_result"
    }
   ],
   "source": [
    "# Vectorize it with elfi tools\n",
    "echo_sim_vec = elfi.tools.vectorize(echo_sim)\n",
    "\n",
    "# Make a simple model\n",
    "m = elfi.ElfiModel(name='echo')\n",
    "elfi.Prior('uniform', .005, 2, model=m, name='alpha')\n",
    "elfi.Simulator(echo_sim_vec, m['alpha'], 0, name='echo')\n",
    "\n",
    "# Test to generate 3 simulations from it\n",
    "m['echo'].generate(3)"
   ]
  },
  {
   "cell_type": "markdown",
   "metadata": {},
   "source": [
    "So above, the first column draws from our uniform prior for $\\alpha$, the second column has constant zeros, and the last one lists the seeds provided to the command by ELFI.\n",
    "\n",
    "## Complex external operations $-$ case BDM\n",
    "\n",
    "To provide a more realistic example of external operations, we will consider the Birth-Death-Mutation (BDM) model used in [*Lintusaari at al 2016*](https://doi.org/10.1093/sysbio/syw077) *[1]*.\n",
    "\n",
    "### Birth-Death-Mutation process\n",
    "\n",
    "We will consider here the Birth-Death-Mutation process simulator introduced in *Tanaka et al 2006 [2]* for the spread of Tuberculosis. The simulator outputs a count vector where each of its elements represents a \"mutation\" of the disease and the count describes how many are currently infected by that mutation. There are three rates and the population size:\n",
    "\n",
    "- $\\alpha$ - (birth rate) the rate at which any infectious host transmits the disease.\n",
    "- $\\delta$ - (death rate) the rate at which any existing infectious hosts either recovers or dies.\n",
    "- $\\tau$ - (mutation rate) the rate at which any infectious host develops a new unseen mutation of the disease within themselves.\n",
    "- $N$ - (population size) the size of the simulated infectious population\n",
    "\n",
    "It is assumed that the susceptible population is infinite, the hosts carry only one mutation of the disease and transmit that mutation onward. A more accurate description of the model can be found from the original paper or e.g. [*Lintusaari at al 2016*](https://doi.org/10.1093/sysbio/syw077) *[1]*.\n",
    "\n",
    "<img src=\"resources/bdm.png\" alt=\"BDM model illustration from Lintusaari et al. 2016\" style=\"width: 400px;\"/>"
   ]
  },
  {
   "cell_type": "markdown",
   "metadata": {},
   "source": [
    ".. For documentation\n",
    "\n",
    ".. image:: http://research.cs.aalto.fi/pml/software/elfi/docs/0.5/images/bdm.png\n",
    "   :width: 400 px\n",
    "   :alt: BDM model illustration from Lintusaari et al. 2016\n",
    "   :align: center"
   ]
  },
  {
   "cell_type": "markdown",
   "metadata": {},
   "source": [
    "This simulator cannot be implemented effectively with vectorized operations so we have implemented it with C++ that handles loops efficiently. We will now reproduce Figure 6(a) in [*Lintusaari at al 2016*](https://doi.org/10.1093/sysbio/syw077) *[2]* with ELFI. Let's start by defining some constants:"
   ]
  },
  {
   "cell_type": "code",
   "execution_count": 4,
   "metadata": {
    "collapsed": true
   },
   "outputs": [],
   "source": [
    "# Fixed model parameters\n",
    "delta = 0\n",
    "tau = 0.198\n",
    "N = 20\n",
    "\n",
    "# The zeros are to make the observed population vector have length N\n",
    "y_obs = np.array([6, 3, 2, 2, 1, 1, 1, 1, 1, 1, 1, 0, 0, 0, 0, 0, 0, 0, 0, 0], dtype='int16')"
   ]
  },
  {
   "cell_type": "markdown",
   "metadata": {},
   "source": [
    "Let's build the beginning of a new model for the birth rate $\\alpha$ as the only unknown"
   ]
  },
  {
   "cell_type": "code",
   "execution_count": 5,
   "metadata": {},
   "outputs": [
    {
     "data": {
      "text/plain": [
       "Prior(name='alpha', 'uniform')"
      ]
     },
     "execution_count": 5,
     "metadata": {},
     "output_type": "execute_result"
    }
   ],
   "source": [
    "m = elfi.ElfiModel(name='bdm')\n",
    "elfi.Prior('uniform', .005, 2, model=m, name='alpha')"
   ]
  },
  {
   "cell_type": "code",
   "execution_count": 6,
   "metadata": {},
   "outputs": [
    {
     "name": "stdout",
     "output_type": "stream",
     "text": [
      "make: Entering directory '/home/leclercq/codes/elfi/elfi/examples/cpp'\n",
      "g++ bdm.cpp --std=c++0x -O -Wall -o bdm\n",
      "make: Leaving directory '/home/leclercq/codes/elfi/elfi/examples/cpp'\n"
     ]
    }
   ],
   "source": [
    "# Get the BDM source directory\n",
    "sources_path = elfi.examples.bdm.get_sources_path()\n",
    "\n",
    "# Compile (unix-like systems)\n",
    "!make -C $sources_path\n",
    "\n",
    "# Move the executable in to the working directory\n",
    "!mv $sources_path/bdm ."
   ]
  },
  {
   "cell_type": "markdown",
   "metadata": {},
   "source": [
    ".. note:: The source code for the BDM simulator comes with ELFI. You can get the directory with `elfi.examples.bdm.get_source_directory()`. Under unix-like systems it can be compiled with just typing `make` to console in the source directory. For windows systems, you need to have some C++ compiler available to compile it."
   ]
  },
  {
   "cell_type": "code",
   "execution_count": 7,
   "metadata": {},
   "outputs": [
    {
     "data": {
      "text/plain": [
       "array([ 19.,   1.,   0.,   0.,   0.,   0.,   0.,   0.,   0.,   0.,   0.,\n",
       "         0.,   0.,   0.,   0.,   0.,   0.,   0.,   0.,   0.])"
      ]
     },
     "execution_count": 7,
     "metadata": {},
     "output_type": "execute_result"
    }
   ],
   "source": [
    "# Test the executable (assuming we have the executable `bdm` in the working directory)\n",
    "sim = elfi.tools.external_operation('./bdm {0} {1} {2} {3} --seed {seed} --mode 1')\n",
    "sim(1, delta, tau, N, seed=123)"
   ]
  },
  {
   "cell_type": "markdown",
   "metadata": {
    "collapsed": true
   },
   "source": [
    "The BDM simulator is actually already internally vectorized if you provide it an input file with parameters on the rows. This is more efficient than looping in Python (`elfi.tools.vectorize`), because one simulation takes very little time and we wish to generate tens of thousands of simulations. We will also here redirect the output to a file and then read the file into a numpy array. \n",
    "\n",
    "This is just one possibility among the many to implement this. The most efficient would be to write a native Python module with C++ but it's beyond the scope of this article. So let's work through files which is a fairly common situation especially with existing software."
   ]
  },
  {
   "cell_type": "code",
   "execution_count": 8,
   "metadata": {
    "collapsed": true
   },
   "outputs": [],
   "source": [
    "# Assuming we have the executable `bdm` in the working directory\n",
    "command = './bdm {filename} --seed {seed} --mode 1 > {output_filename}'\n",
    "\n",
    "\n",
    "# Function to prepare the inputs for the simulator. We will create filenames and write an input file.\n",
    "def prepare_inputs(*inputs, **kwinputs):\n",
    "    alpha, delta, tau, N = inputs\n",
    "    meta = kwinputs['meta']\n",
    "\n",
    "    # Organize the parameters to an array. The broadcasting works nicely with constant arguments here.\n",
    "    param_array = np.row_stack(np.broadcast(alpha, delta, tau, N))\n",
    "    \n",
    "    # Prepare a unique filename for parallel settings\n",
    "    filename = '{model_name}_{batch_index}_{submission_index}.txt'.format(**meta)\n",
    "    np.savetxt(filename, param_array, fmt='%.4f %.4f %.4f %d')\n",
    "\n",
    "    # Add the filenames to kwinputs\n",
    "    kwinputs['filename'] = filename\n",
    "    kwinputs['output_filename'] = filename[:-4] + '_out.txt'\n",
    "    \n",
    "    # Return new inputs that the command will receive\n",
    "    return inputs, kwinputs\n",
    "\n",
    "\n",
    "# Function to process the result of the simulation\n",
    "def process_result(completed_process, *inputs, **kwinputs):\n",
    "    output_filename = kwinputs['output_filename']\n",
    "    \n",
    "    # Read the simulations from the file.\n",
    "    simulations = np.loadtxt(output_filename, dtype='int16')\n",
    "    \n",
    "    # Clean up the files after reading the data in\n",
    "    os.remove(kwinputs['filename'])\n",
    "    os.remove(output_filename)\n",
    "    \n",
    "    # This will be passed to ELFI as the result of the command\n",
    "    return simulations\n",
    "\n",
    "\n",
    "# Create the python function (do not read stdout since we will work through files)\n",
    "bdm = elfi.tools.external_operation(command, \n",
    "                                    prepare_inputs=prepare_inputs, \n",
    "                                    process_result=process_result, \n",
    "                                    stdout=False)"
   ]
  },
  {
   "cell_type": "markdown",
   "metadata": {},
   "source": [
    "Now let's replace the echo simulator with this. To create unique but informative filenames, we ask ELFI to provide the operation some meta information. That will be available under the `meta` keyword (see the `prepare_inputs` function above):"
   ]
  },
  {
   "cell_type": "code",
   "execution_count": 9,
   "metadata": {},
   "outputs": [
    {
     "data": {
      "image/svg+xml": [
       "<?xml version=\"1.0\" encoding=\"UTF-8\" standalone=\"no\"?>\n",
       "<!DOCTYPE svg PUBLIC \"-//W3C//DTD SVG 1.1//EN\"\n",
       " \"http://www.w3.org/Graphics/SVG/1.1/DTD/svg11.dtd\">\n",
       "<!-- Generated by graphviz version 2.40.1 (20161225.0304)\n",
       " -->\n",
       "<!-- Title: %3 Pages: 1 -->\n",
       "<svg width=\"68pt\" height=\"152pt\"\n",
       " viewBox=\"0.00 0.00 67.79 151.89\" xmlns=\"http://www.w3.org/2000/svg\" xmlns:xlink=\"http://www.w3.org/1999/xlink\">\n",
       "<g id=\"graph0\" class=\"graph\" transform=\"scale(1 1) rotate(0) translate(4 147.8904)\">\n",
       "<title>%3</title>\n",
       "<polygon fill=\"#ffffff\" stroke=\"transparent\" points=\"-4,4 -4,-147.8904 63.7947,-147.8904 63.7947,4 -4,4\"/>\n",
       "<!-- alpha -->\n",
       "<g id=\"node1\" class=\"node\">\n",
       "<title>alpha</title>\n",
       "<ellipse fill=\"none\" stroke=\"#000000\" cx=\"29.8973\" cy=\"-113.9931\" rx=\"29.795\" ry=\"29.795\"/>\n",
       "<text text-anchor=\"middle\" x=\"29.8973\" y=\"-110.2931\" font-family=\"Times,serif\" font-size=\"14.00\" fill=\"#000000\">alpha</text>\n",
       "</g>\n",
       "<!-- sim -->\n",
       "<g id=\"node2\" class=\"node\">\n",
       "<title>sim</title>\n",
       "<ellipse fill=\"#cccccc\" stroke=\"#000000\" cx=\"29.8973\" cy=\"-24.0479\" rx=\"24.0958\" ry=\"24.0958\"/>\n",
       "<text text-anchor=\"middle\" x=\"29.8973\" y=\"-20.3479\" font-family=\"Times,serif\" font-size=\"14.00\" fill=\"#000000\">sim</text>\n",
       "</g>\n",
       "<!-- alpha&#45;&gt;sim -->\n",
       "<g id=\"edge1\" class=\"edge\">\n",
       "<title>alpha&#45;&gt;sim</title>\n",
       "<path fill=\"none\" stroke=\"#000000\" d=\"M29.8973,-84.0426C29.8973,-75.759 29.8973,-66.7072 29.8973,-58.2039\"/>\n",
       "<polygon fill=\"#000000\" stroke=\"#000000\" points=\"33.3974,-58.1922 29.8973,-48.1922 26.3974,-58.1922 33.3974,-58.1922\"/>\n",
       "</g>\n",
       "</g>\n",
       "</svg>\n"
      ],
      "text/plain": [
       "<graphviz.dot.Digraph at 0x2b4bc1870198>"
      ]
     },
     "execution_count": 9,
     "metadata": {},
     "output_type": "execute_result"
    }
   ],
   "source": [
    "# Create the simulator\n",
    "bdm_node = elfi.Simulator(bdm, m['alpha'], delta, tau, N, observed=y_obs, name='sim')\n",
    "\n",
    "# Ask ELFI to provide the meta dict\n",
    "bdm_node.uses_meta = True\n",
    "\n",
    "# Draw the model\n",
    "elfi.draw(m)"
   ]
  },
  {
   "cell_type": "code",
   "execution_count": 10,
   "metadata": {},
   "outputs": [
    {
     "name": "stdout",
     "output_type": "stream",
     "text": [
      "[[15  4  1  0  0  0  0  0  0  0  0  0  0  0  0  0  0  0  0  0]\n",
      " [ 9  9  1  1  0  0  0  0  0  0  0  0  0  0  0  0  0  0  0  0]\n",
      " [13  1  3  1  1  1  0  0  0  0  0  0  0  0  0  0  0  0  0  0]]\n"
     ]
    }
   ],
   "source": [
    "# Test it\n",
    "data = bdm_node.generate(3)\n",
    "print(data)"
   ]
  },
  {
   "cell_type": "markdown",
   "metadata": {},
   "source": [
    "### Completing the BDM model\n",
    "\n",
    "We are now ready to finish up the BDM model. To reproduce Figure 6(a) in [*Lintusaari at al 2016*](https://doi.org/10.1093/sysbio/syw077) *[2]*, let's add different summaries and discrepancies to the model and run the inference for each of them:"
   ]
  },
  {
   "cell_type": "code",
   "execution_count": 11,
   "metadata": {},
   "outputs": [
    {
     "data": {
      "text/plain": [
       "Distance(name='d_sim')"
      ]
     },
     "execution_count": 11,
     "metadata": {},
     "output_type": "execute_result"
    }
   ],
   "source": [
    "def T1(clusters):\n",
    "    clusters = np.atleast_2d(clusters)\n",
    "    return np.sum(clusters > 0, 1)/np.sum(clusters, 1)\n",
    "\n",
    "def T2(clusters, n=20):\n",
    "    clusters = np.atleast_2d(clusters)\n",
    "    return 1 - np.sum((clusters/n)**2, axis=1)\n",
    "\n",
    "# Add the different distances to the model\n",
    "elfi.Summary(T1, bdm_node, name='T1')\n",
    "elfi.Distance('minkowski', m['T1'], p=1, name='d_T1')\n",
    "\n",
    "elfi.Summary(T2, bdm_node, name='T2')\n",
    "elfi.Distance('minkowski', m['T2'], p=1, name='d_T2')\n",
    "\n",
    "elfi.Distance('minkowski', m['sim'], p=1, name='d_sim')"
   ]
  },
  {
   "cell_type": "code",
   "execution_count": 12,
   "metadata": {},
   "outputs": [
    {
     "data": {
      "image/svg+xml": [
       "<?xml version=\"1.0\" encoding=\"UTF-8\" standalone=\"no\"?>\n",
       "<!DOCTYPE svg PUBLIC \"-//W3C//DTD SVG 1.1//EN\"\n",
       " \"http://www.w3.org/Graphics/SVG/1.1/DTD/svg11.dtd\">\n",
       "<!-- Generated by graphviz version 2.40.1 (20161225.0304)\n",
       " -->\n",
       "<!-- Title: %3 Pages: 1 -->\n",
       "<svg width=\"213pt\" height=\"347pt\"\n",
       " viewBox=\"0.00 0.00 212.74 347.38\" xmlns=\"http://www.w3.org/2000/svg\" xmlns:xlink=\"http://www.w3.org/1999/xlink\">\n",
       "<g id=\"graph0\" class=\"graph\" transform=\"scale(1 1) rotate(0) translate(4 343.3795)\">\n",
       "<title>%3</title>\n",
       "<polygon fill=\"#ffffff\" stroke=\"transparent\" points=\"-4,4 -4,-343.3795 208.7445,-343.3795 208.7445,4 -4,4\"/>\n",
       "<!-- alpha -->\n",
       "<g id=\"node1\" class=\"node\">\n",
       "<title>alpha</title>\n",
       "<ellipse fill=\"none\" stroke=\"#000000\" cx=\"101.2474\" cy=\"-309.4821\" rx=\"29.795\" ry=\"29.795\"/>\n",
       "<text text-anchor=\"middle\" x=\"101.2474\" y=\"-305.7821\" font-family=\"Times,serif\" font-size=\"14.00\" fill=\"#000000\">alpha</text>\n",
       "</g>\n",
       "<!-- sim -->\n",
       "<g id=\"node2\" class=\"node\">\n",
       "<title>sim</title>\n",
       "<ellipse fill=\"#cccccc\" stroke=\"#000000\" cx=\"101.2474\" cy=\"-219.5369\" rx=\"24.0958\" ry=\"24.0958\"/>\n",
       "<text text-anchor=\"middle\" x=\"101.2474\" y=\"-215.8369\" font-family=\"Times,serif\" font-size=\"14.00\" fill=\"#000000\">sim</text>\n",
       "</g>\n",
       "<!-- alpha&#45;&gt;sim -->\n",
       "<g id=\"edge1\" class=\"edge\">\n",
       "<title>alpha&#45;&gt;sim</title>\n",
       "<path fill=\"none\" stroke=\"#000000\" d=\"M101.2474,-279.5317C101.2474,-271.2481 101.2474,-262.1963 101.2474,-253.6929\"/>\n",
       "<polygon fill=\"#000000\" stroke=\"#000000\" points=\"104.7475,-253.6812 101.2474,-243.6812 97.7475,-253.6813 104.7475,-253.6812\"/>\n",
       "</g>\n",
       "<!-- T1 -->\n",
       "<g id=\"node3\" class=\"node\">\n",
       "<title>T1</title>\n",
       "<ellipse fill=\"#cccccc\" stroke=\"#000000\" cx=\"37.2474\" cy=\"-126.9919\" rx=\"20.5982\" ry=\"20.5982\"/>\n",
       "<text text-anchor=\"middle\" x=\"37.2474\" y=\"-123.2919\" font-family=\"Times,serif\" font-size=\"14.00\" fill=\"#000000\">T1</text>\n",
       "</g>\n",
       "<!-- sim&#45;&gt;T1 -->\n",
       "<g id=\"edge2\" class=\"edge\">\n",
       "<title>sim&#45;&gt;T1</title>\n",
       "<path fill=\"none\" stroke=\"#000000\" d=\"M87.3604,-199.456C77.8334,-185.68 65.1128,-167.2857 54.8719,-152.4772\"/>\n",
       "<polygon fill=\"#000000\" stroke=\"#000000\" points=\"57.7382,-150.4685 49.1716,-144.2345 51.9809,-154.4501 57.7382,-150.4685\"/>\n",
       "</g>\n",
       "<!-- T2 -->\n",
       "<g id=\"node5\" class=\"node\">\n",
       "<title>T2</title>\n",
       "<ellipse fill=\"#cccccc\" stroke=\"#000000\" cx=\"101.2474\" cy=\"-126.9919\" rx=\"20.5982\" ry=\"20.5982\"/>\n",
       "<text text-anchor=\"middle\" x=\"101.2474\" y=\"-123.2919\" font-family=\"Times,serif\" font-size=\"14.00\" fill=\"#000000\">T2</text>\n",
       "</g>\n",
       "<!-- sim&#45;&gt;T2 -->\n",
       "<g id=\"edge3\" class=\"edge\">\n",
       "<title>sim&#45;&gt;T2</title>\n",
       "<path fill=\"none\" stroke=\"#000000\" d=\"M101.2474,-195.2218C101.2474,-183.8726 101.2474,-170.2293 101.2474,-158.1353\"/>\n",
       "<polygon fill=\"#000000\" stroke=\"#000000\" points=\"104.7475,-158.0026 101.2474,-148.0027 97.7475,-158.0027 104.7475,-158.0026\"/>\n",
       "</g>\n",
       "<!-- d_sim -->\n",
       "<g id=\"node7\" class=\"node\">\n",
       "<title>d_sim</title>\n",
       "<ellipse fill=\"none\" stroke=\"#000000\" cx=\"172.2474\" cy=\"-126.9919\" rx=\"32.4942\" ry=\"32.4942\"/>\n",
       "<text text-anchor=\"middle\" x=\"172.2474\" y=\"-123.2919\" font-family=\"Times,serif\" font-size=\"14.00\" fill=\"#000000\">d_sim</text>\n",
       "</g>\n",
       "<!-- sim&#45;&gt;d_sim -->\n",
       "<g id=\"edge4\" class=\"edge\">\n",
       "<title>sim&#45;&gt;d_sim</title>\n",
       "<path fill=\"none\" stroke=\"#000000\" d=\"M115.9587,-200.3615C124.7042,-188.9622 136.0487,-174.1752 146.2596,-160.8657\"/>\n",
       "<polygon fill=\"#000000\" stroke=\"#000000\" points=\"149.1274,-162.8777 152.4375,-152.8131 143.5736,-158.6168 149.1274,-162.8777\"/>\n",
       "</g>\n",
       "<!-- d_T1 -->\n",
       "<g id=\"node4\" class=\"node\">\n",
       "<title>d_T1</title>\n",
       "<ellipse fill=\"none\" stroke=\"#000000\" cx=\"29.2474\" cy=\"-29.2474\" rx=\"29.4969\" ry=\"29.4969\"/>\n",
       "<text text-anchor=\"middle\" x=\"29.2474\" y=\"-25.5474\" font-family=\"Times,serif\" font-size=\"14.00\" fill=\"#000000\">d_T1</text>\n",
       "</g>\n",
       "<!-- T1&#45;&gt;d_T1 -->\n",
       "<g id=\"edge5\" class=\"edge\">\n",
       "<title>T1&#45;&gt;d_T1</title>\n",
       "<path fill=\"none\" stroke=\"#000000\" d=\"M35.5508,-106.2628C34.6533,-95.2967 33.521,-81.4628 32.4646,-68.5552\"/>\n",
       "<polygon fill=\"#000000\" stroke=\"#000000\" points=\"35.9437,-68.1558 31.6395,-58.4747 28.967,-68.7269 35.9437,-68.1558\"/>\n",
       "</g>\n",
       "<!-- d_T2 -->\n",
       "<g id=\"node6\" class=\"node\">\n",
       "<title>d_T2</title>\n",
       "<ellipse fill=\"none\" stroke=\"#000000\" cx=\"105.2474\" cy=\"-29.2474\" rx=\"29.4969\" ry=\"29.4969\"/>\n",
       "<text text-anchor=\"middle\" x=\"105.2474\" y=\"-25.5474\" font-family=\"Times,serif\" font-size=\"14.00\" fill=\"#000000\">d_T2</text>\n",
       "</g>\n",
       "<!-- T2&#45;&gt;d_T2 -->\n",
       "<g id=\"edge6\" class=\"edge\">\n",
       "<title>T2&#45;&gt;d_T2</title>\n",
       "<path fill=\"none\" stroke=\"#000000\" d=\"M102.1153,-105.7828C102.5569,-94.992 103.1083,-81.5184 103.6248,-68.8964\"/>\n",
       "<polygon fill=\"#000000\" stroke=\"#000000\" points=\"107.1354,-68.7067 104.0474,-58.5719 100.1413,-68.4204 107.1354,-68.7067\"/>\n",
       "</g>\n",
       "</g>\n",
       "</svg>\n"
      ],
      "text/plain": [
       "<graphviz.dot.Digraph at 0x2b4beafe3780>"
      ]
     },
     "execution_count": 12,
     "metadata": {},
     "output_type": "execute_result"
    }
   ],
   "source": [
    "elfi.draw(m)"
   ]
  },
  {
   "cell_type": "code",
   "execution_count": 13,
   "metadata": {},
   "outputs": [
    {
     "name": "stdout",
     "output_type": "stream",
     "text": [
      "CPU times: user 2.13 s, sys: 36 ms, total: 2.16 s\n",
      "Wall time: 2.82 s\n",
      "CPU times: user 24 ms, sys: 0 ns, total: 24 ms\n",
      "Wall time: 21.3 ms\n",
      "CPU times: user 24 ms, sys: 0 ns, total: 24 ms\n",
      "Wall time: 24.7 ms\n"
     ]
    }
   ],
   "source": [
    "# Save parameter and simulation results in memory to speed up the later inference\n",
    "pool = elfi.OutputPool(['alpha', 'sim'])\n",
    "# Fix a seed\n",
    "seed = 20170511\n",
    "\n",
    "rej = elfi.Rejection(m, 'd_T1', batch_size=10000, pool=pool, seed=seed)\n",
    "%time T1_res = rej.sample(5000, n_sim=int(1e5))\n",
    "\n",
    "rej = elfi.Rejection(m, 'd_T2', batch_size=10000, pool=pool, seed=seed)\n",
    "%time T2_res = rej.sample(5000, n_sim=int(1e5))\n",
    "\n",
    "rej = elfi.Rejection(m, 'd_sim', batch_size=10000, pool=pool, seed=seed)\n",
    "%time sim_res = rej.sample(5000, n_sim=int(1e5))"
   ]
  },
  {
   "cell_type": "code",
   "execution_count": 14,
   "metadata": {},
   "outputs": [
    {
     "name": "stdout",
     "output_type": "stream",
     "text": [
      "Results after 100000 simulations. Compare to figure 6(a) in Lintusaari et al. 2016.\n"
     ]
    },
    {
     "data": {
      "image/png": "[encoded data removed]",
      "text/plain": [
       "<matplotlib.figure.Figure at 0x2b4bea770390>"
      ]
     },
     "metadata": {},
     "output_type": "display_data"
    }
   ],
   "source": [
    "# Load a precomputed posterior based on an analytic solution (see Lintusaari et al 2016)\n",
    "matdata = sio.loadmat('./resources/bdm.mat')\n",
    "x = matdata['likgrid'].reshape(-1)\n",
    "posterior_at_x = matdata['post'].reshape(-1)\n",
    "\n",
    "# Plot the reference\n",
    "plt.figure()\n",
    "plt.plot(x, posterior_at_x, c='k')\n",
    "\n",
    "# Plot the different curves\n",
    "for res, d_node, c in ([sim_res, 'd_sim', 'b'], [T1_res, 'd_T1', 'g'], [T2_res, 'd_T2', 'r']):\n",
    "    alphas = res.outputs['alpha']\n",
    "    dists = res.outputs[d_node]\n",
    "    # Use gaussian kde to make the curves look nice. Note that this tends to benefit the algorithm 1 \n",
    "    # a lot as it ususally has only a very few accepted samples with 100000 simulations\n",
    "    kde = ss.gaussian_kde(alphas[dists<=0])\n",
    "    plt.plot(x, kde(x), c=c)\n",
    "    \n",
    "plt.legend(['reference', 'algorithm 1', 'algorithm 2, T1\\n(eps=0)', 'algorithm 2, T2\\n(eps=0)'])\n",
    "plt.xlim([-.2, 1.2]);\n",
    "print('Results after 100000 simulations. Compare to figure 6(a) in Lintusaari et al. 2016.')"
   ]
  },
  {
   "cell_type": "markdown",
   "metadata": {},
   "source": [
    "## Interfacing with R"
   ]
  },
  {
   "cell_type": "markdown",
   "metadata": {},
   "source": [
    "It is possible to run R scripts in command line for example with [Rscript](http://stat.ethz.ch/R-manual/R-devel/library/utils/html/Rscript.html). However, in Python it may be more convenient to use [rpy2](http://rpy2.readthedocs.io), which allows convenient access to the functionality of R from within Python. You can install it with `pip install rpy2`.\n",
    "\n",
    "Here we demonstrate how to calculate the summary statistics used in the ELFI tutorial (autocovariances) using R's `acf` function for the MA2 model."
   ]
  },
  {
   "cell_type": "code",
   "execution_count": 15,
   "metadata": {
    "collapsed": true
   },
   "outputs": [],
   "source": [
    "import rpy2.robjects as robj\n",
    "from rpy2.robjects import numpy2ri as np2ri\n",
    "\n",
    "# Converts numpy arrays automatically\n",
    "np2ri.activate()"
   ]
  },
  {
   "cell_type": "raw",
   "metadata": {},
   "source": [
    ".. Note:: See this issue_ if you get a `undefined symbol: PC` error in the import after installing rpy2 and you are using Anaconda.\n",
    "\n",
    ".. _issue: https://github.com/ContinuumIO/anaconda-issues/issues/152"
   ]
  },
  {
   "cell_type": "markdown",
   "metadata": {},
   "source": [
    "Let's create a Python function that wraps the R commands (please see the documentation of [rpy2](http://rpy2.readthedocs.io) for details):"
   ]
  },
  {
   "cell_type": "code",
   "execution_count": 16,
   "metadata": {
    "collapsed": true
   },
   "outputs": [],
   "source": [
    "robj.r('''\n",
    "    # create a function `f`\n",
    "    f <- function(x, lag=1) {\n",
    "        ac = acf(x, plot=FALSE, type=\"covariance\", lag.max=lag, demean=FALSE)\n",
    "        ac[['acf']][lag+1]\n",
    "    }\n",
    "    ''')\n",
    "\n",
    "f = robj.globalenv['f']\n",
    "\n",
    "def autocovR(x, lag=1):\n",
    "    x = np.atleast_2d(x)\n",
    "    apply = robj.r['apply']\n",
    "    ans = apply(x, 1, f, lag=lag)\n",
    "    return np.atleast_1d(ans)"
   ]
  },
  {
   "cell_type": "code",
   "execution_count": 17,
   "metadata": {},
   "outputs": [
    {
     "data": {
      "text/plain": [
       "array([  5.,  23.])"
      ]
     },
     "execution_count": 17,
     "metadata": {},
     "output_type": "execute_result"
    }
   ],
   "source": [
    "# Test it\n",
    "autocovR(np.array([[1,2,3,4], [4,5,6,7]]), 1)"
   ]
  },
  {
   "cell_type": "markdown",
   "metadata": {},
   "source": [
    "Load a ready made MA2 model:"
   ]
  },
  {
   "cell_type": "code",
   "execution_count": 18,
   "metadata": {},
   "outputs": [
    {
     "data": {
      "image/svg+xml": [
       "<?xml version=\"1.0\" encoding=\"UTF-8\" standalone=\"no\"?>\n",
       "<!DOCTYPE svg PUBLIC \"-//W3C//DTD SVG 1.1//EN\"\n",
       " \"http://www.w3.org/Graphics/SVG/1.1/DTD/svg11.dtd\">\n",
       "<!-- Generated by graphviz version 2.40.1 (20161225.0304)\n",
       " -->\n",
       "<!-- Title: %3 Pages: 1 -->\n",
       "<svg width=\"104pt\" height=\"356pt\"\n",
       " viewBox=\"0.00 0.00 103.89 356.45\" xmlns=\"http://www.w3.org/2000/svg\" xmlns:xlink=\"http://www.w3.org/1999/xlink\">\n",
       "<g id=\"graph0\" class=\"graph\" transform=\"scale(1 1) rotate(0) translate(4 352.4503)\">\n",
       "<title>%3</title>\n",
       "<polygon fill=\"#ffffff\" stroke=\"transparent\" points=\"-4,4 -4,-352.4503 99.8937,-352.4503 99.8937,4 -4,4\"/>\n",
       "<!-- t2 -->\n",
       "<g id=\"node1\" class=\"node\">\n",
       "<title>t2</title>\n",
       "<ellipse fill=\"none\" stroke=\"#000000\" cx=\"24.4469\" cy=\"-258.4503\" rx=\"18\" ry=\"18\"/>\n",
       "<text text-anchor=\"middle\" x=\"24.4469\" y=\"-254.2503\" font-family=\"Times,serif\" font-size=\"14.00\" fill=\"#000000\">t2</text>\n",
       "</g>\n",
       "<!-- MA2 -->\n",
       "<g id=\"node3\" class=\"node\">\n",
       "<title>MA2</title>\n",
       "<ellipse fill=\"#cccccc\" stroke=\"#000000\" cx=\"47.4469\" cy=\"-175.672\" rx=\"28.5583\" ry=\"28.5583\"/>\n",
       "<text text-anchor=\"middle\" x=\"47.4469\" y=\"-171.472\" font-family=\"Times,serif\" font-size=\"14.00\" fill=\"#000000\">MA2</text>\n",
       "</g>\n",
       "<!-- t2&#45;&gt;MA2 -->\n",
       "<g id=\"edge1\" class=\"edge\">\n",
       "<title>t2&#45;&gt;MA2</title>\n",
       "<path fill=\"none\" stroke=\"#000000\" d=\"M29.3246,-240.8951C31.556,-232.8643 34.2919,-223.0173 36.9552,-213.432\"/>\n",
       "<polygon fill=\"#000000\" stroke=\"#000000\" points=\"40.3752,-214.1968 39.6802,-203.6248 33.6307,-212.3228 40.3752,-214.1968\"/>\n",
       "</g>\n",
       "<!-- t1 -->\n",
       "<g id=\"node2\" class=\"node\">\n",
       "<title>t1</title>\n",
       "<ellipse fill=\"none\" stroke=\"#000000\" cx=\"47.4469\" cy=\"-330.4503\" rx=\"18\" ry=\"18\"/>\n",
       "<text text-anchor=\"middle\" x=\"47.4469\" y=\"-326.2503\" font-family=\"Times,serif\" font-size=\"14.00\" fill=\"#000000\">t1</text>\n",
       "</g>\n",
       "<!-- t1&#45;&gt;t2 -->\n",
       "<g id=\"edge2\" class=\"edge\">\n",
       "<title>t1&#45;&gt;t2</title>\n",
       "<path fill=\"none\" stroke=\"#000000\" d=\"M41.8792,-313.0211C39.2236,-304.7078 35.9868,-294.5751 33.0264,-285.308\"/>\n",
       "<polygon fill=\"#000000\" stroke=\"#000000\" points=\"36.3403,-284.1797 29.9633,-275.719 29.6723,-286.3098 36.3403,-284.1797\"/>\n",
       "</g>\n",
       "<!-- t1&#45;&gt;MA2 -->\n",
       "<g id=\"edge3\" class=\"edge\">\n",
       "<title>t1&#45;&gt;MA2</title>\n",
       "<path fill=\"none\" stroke=\"#000000\" d=\"M49.1133,-312.4688C50.0021,-301.9749 51.0021,-288.4749 51.4469,-276.4503 52.1969,-256.1703 51.448,-233.5972 50.4036,-214.9639\"/>\n",
       "<polygon fill=\"#000000\" stroke=\"#000000\" points=\"53.8847,-214.5453 49.7822,-204.7769 46.8977,-214.9715 53.8847,-214.5453\"/>\n",
       "</g>\n",
       "<!-- S1 -->\n",
       "<g id=\"node4\" class=\"node\">\n",
       "<title>S1</title>\n",
       "<ellipse fill=\"#cccccc\" stroke=\"#000000\" cx=\"19.4469\" cy=\"-91.4469\" rx=\"19.3939\" ry=\"19.3939\"/>\n",
       "<text text-anchor=\"middle\" x=\"19.4469\" y=\"-87.2469\" font-family=\"Times,serif\" font-size=\"14.00\" fill=\"#000000\">S1</text>\n",
       "</g>\n",
       "<!-- MA2&#45;&gt;S1 -->\n",
       "<g id=\"edge4\" class=\"edge\">\n",
       "<title>MA2&#45;&gt;S1</title>\n",
       "<path fill=\"none\" stroke=\"#000000\" d=\"M38.2786,-148.0935C35.2657,-139.0306 31.9125,-128.9441 28.8803,-119.823\"/>\n",
       "<polygon fill=\"#000000\" stroke=\"#000000\" points=\"32.1044,-118.4264 25.6284,-110.0412 25.4619,-120.6348 32.1044,-118.4264\"/>\n",
       "</g>\n",
       "<!-- S2 -->\n",
       "<g id=\"node6\" class=\"node\">\n",
       "<title>S2</title>\n",
       "<ellipse fill=\"#cccccc\" stroke=\"#000000\" cx=\"76.4469\" cy=\"-91.4469\" rx=\"19.3939\" ry=\"19.3939\"/>\n",
       "<text text-anchor=\"middle\" x=\"76.4469\" y=\"-87.2469\" font-family=\"Times,serif\" font-size=\"14.00\" fill=\"#000000\">S2</text>\n",
       "</g>\n",
       "<!-- MA2&#45;&gt;S2 -->\n",
       "<g id=\"edge5\" class=\"edge\">\n",
       "<title>MA2&#45;&gt;S2</title>\n",
       "<path fill=\"none\" stroke=\"#000000\" d=\"M56.9426,-148.0935C60.0966,-138.9332 63.6107,-128.727 66.7777,-119.5291\"/>\n",
       "<polygon fill=\"#000000\" stroke=\"#000000\" points=\"70.0982,-120.6359 70.0445,-110.0412 63.4796,-118.357 70.0982,-120.6359\"/>\n",
       "</g>\n",
       "<!-- d -->\n",
       "<g id=\"node5\" class=\"node\">\n",
       "<title>d</title>\n",
       "<ellipse fill=\"none\" stroke=\"#000000\" cx=\"47.4469\" cy=\"-18\" rx=\"18\" ry=\"18\"/>\n",
       "<text text-anchor=\"middle\" x=\"47.4469\" y=\"-13.8\" font-family=\"Times,serif\" font-size=\"14.00\" fill=\"#000000\">d</text>\n",
       "</g>\n",
       "<!-- S1&#45;&gt;d -->\n",
       "<g id=\"edge6\" class=\"edge\">\n",
       "<title>S1&#45;&gt;d</title>\n",
       "<path fill=\"none\" stroke=\"#000000\" d=\"M26.5124,-72.9131C29.7485,-64.4245 33.646,-54.2012 37.1961,-44.8887\"/>\n",
       "<polygon fill=\"#000000\" stroke=\"#000000\" points=\"40.5726,-45.8573 40.8644,-35.2664 34.0317,-43.3637 40.5726,-45.8573\"/>\n",
       "</g>\n",
       "<!-- S2&#45;&gt;d -->\n",
       "<g id=\"edge7\" class=\"edge\">\n",
       "<title>S2&#45;&gt;d</title>\n",
       "<path fill=\"none\" stroke=\"#000000\" d=\"M69.2783,-73.2915C65.8425,-64.5897 61.6614,-54.0004 57.8813,-44.4269\"/>\n",
       "<polygon fill=\"#000000\" stroke=\"#000000\" points=\"61.0633,-42.9553 54.1353,-34.9395 54.5525,-45.5262 61.0633,-42.9553\"/>\n",
       "</g>\n",
       "</g>\n",
       "</svg>\n"
      ],
      "text/plain": [
       "<graphviz.dot.Digraph at 0x118f72128>"
      ]
     },
     "execution_count": 18,
     "metadata": {},
     "output_type": "execute_result"
    }
   ],
   "source": [
    "ma2 = elfi.examples.ma2.get_model(seed_obs=4)\n",
    "elfi.draw(ma2)"
   ]
  },
  {
   "cell_type": "markdown",
   "metadata": {},
   "source": [
    "Replace the summaries S1 and S2 with our R autocovariance function."
   ]
  },
  {
   "cell_type": "code",
   "execution_count": 19,
   "metadata": {},
   "outputs": [
    {
     "data": {
      "text/plain": [
       "Method: Rejection\n",
       "Number of samples: 100\n",
       "Number of simulations: 10000\n",
       "Threshold: 0.111\n",
       "Sample means: t1: 0.599, t2: 0.177"
      ]
     },
     "execution_count": 19,
     "metadata": {},
     "output_type": "execute_result"
    }
   ],
   "source": [
    "# Replace with R autocov\n",
    "S1 = elfi.Summary(autocovR, ma2['MA2'], 1)\n",
    "S2 = elfi.Summary(autocovR, ma2['MA2'], 2)\n",
    "ma2['S1'].become(S1)\n",
    "ma2['S2'].become(S2)\n",
    "\n",
    "# Run the inference\n",
    "rej = elfi.Rejection(ma2, 'd', batch_size=1000, seed=seed)\n",
    "rej.sample(100)"
   ]
  },
  {
   "cell_type": "markdown",
   "metadata": {},
   "source": [
    "## Interfacing with MATLAB"
   ]
  },
  {
   "cell_type": "markdown",
   "metadata": {},
   "source": [
    "There are a number of options for running MATLAB (or Octave) scripts from within Python. Here, evaluating the distance is demonstrated with a MATLAB function using the official [MATLAB Python cd API](http://www.mathworks.com/help/matlab/matlab-engine-for-python.html). (Tested with MATLAB 2016b.)"
   ]
  },
  {
   "cell_type": "code",
   "execution_count": 20,
   "metadata": {
    "collapsed": true
   },
   "outputs": [],
   "source": [
    "import matlab.engine"
   ]
  },
  {
   "cell_type": "markdown",
   "metadata": {},
   "source": [
    "A MATLAB session needs to be started (and stopped) separately:"
   ]
  },
  {
   "cell_type": "code",
   "execution_count": 21,
   "metadata": {
    "collapsed": true
   },
   "outputs": [],
   "source": [
    "eng = matlab.engine.start_matlab()  # takes a while..."
   ]
  },
  {
   "cell_type": "markdown",
   "metadata": {},
   "source": [
    "Similarly as with R, we have to write a piece of code to interface between MATLAB and Python:"
   ]
  },
  {
   "cell_type": "code",
   "execution_count": 22,
   "metadata": {
    "collapsed": true
   },
   "outputs": [],
   "source": [
    "def euclidean_M(x, y):\n",
    "    # MATLAB array initialized with Python's list\n",
    "    ddM = matlab.double((x-y).tolist())\n",
    "    \n",
    "    # euclidean distance\n",
    "    dM = eng.sqrt(eng.sum(eng.power(ddM, 2.0), 2))\n",
    "    \n",
    "    # Convert back to numpy array\n",
    "    d = np.atleast_1d(dM).reshape(-1)\n",
    "    return d"
   ]
  },
  {
   "cell_type": "code",
   "execution_count": 23,
   "metadata": {},
   "outputs": [
    {
     "data": {
      "text/plain": [
       "array([ 1.41421356,  8.77496439,  1.        ])"
      ]
     },
     "execution_count": 23,
     "metadata": {},
     "output_type": "execute_result"
    }
   ],
   "source": [
    "# Test it\n",
    "euclidean_M(np.array([[1,2,3], [6,7,8], [2,2,3]]), np.array([2,2,2]))"
   ]
  },
  {
   "cell_type": "markdown",
   "metadata": {},
   "source": [
    "Load a ready made MA2 model:"
   ]
  },
  {
   "cell_type": "code",
   "execution_count": 24,
   "metadata": {},
   "outputs": [
    {
     "data": {
      "image/svg+xml": [
       "<?xml version=\"1.0\" encoding=\"UTF-8\" standalone=\"no\"?>\n",
       "<!DOCTYPE svg PUBLIC \"-//W3C//DTD SVG 1.1//EN\"\n",
       " \"http://www.w3.org/Graphics/SVG/1.1/DTD/svg11.dtd\">\n",
       "<!-- Generated by graphviz version 2.40.1 (20161225.0304)\n",
       " -->\n",
       "<!-- Title: %3 Pages: 1 -->\n",
       "<svg width=\"104pt\" height=\"356pt\"\n",
       " viewBox=\"0.00 0.00 103.89 356.45\" xmlns=\"http://www.w3.org/2000/svg\" xmlns:xlink=\"http://www.w3.org/1999/xlink\">\n",
       "<g id=\"graph0\" class=\"graph\" transform=\"scale(1 1) rotate(0) translate(4 352.4503)\">\n",
       "<title>%3</title>\n",
       "<polygon fill=\"#ffffff\" stroke=\"transparent\" points=\"-4,4 -4,-352.4503 99.8937,-352.4503 99.8937,4 -4,4\"/>\n",
       "<!-- t2 -->\n",
       "<g id=\"node1\" class=\"node\">\n",
       "<title>t2</title>\n",
       "<ellipse fill=\"none\" stroke=\"#000000\" cx=\"24.4469\" cy=\"-258.4503\" rx=\"18\" ry=\"18\"/>\n",
       "<text text-anchor=\"middle\" x=\"24.4469\" y=\"-254.2503\" font-family=\"Times,serif\" font-size=\"14.00\" fill=\"#000000\">t2</text>\n",
       "</g>\n",
       "<!-- MA2 -->\n",
       "<g id=\"node3\" class=\"node\">\n",
       "<title>MA2</title>\n",
       "<ellipse fill=\"#cccccc\" stroke=\"#000000\" cx=\"47.4469\" cy=\"-175.672\" rx=\"28.5583\" ry=\"28.5583\"/>\n",
       "<text text-anchor=\"middle\" x=\"47.4469\" y=\"-171.472\" font-family=\"Times,serif\" font-size=\"14.00\" fill=\"#000000\">MA2</text>\n",
       "</g>\n",
       "<!-- t2&#45;&gt;MA2 -->\n",
       "<g id=\"edge1\" class=\"edge\">\n",
       "<title>t2&#45;&gt;MA2</title>\n",
       "<path fill=\"none\" stroke=\"#000000\" d=\"M29.3246,-240.8951C31.556,-232.8643 34.2919,-223.0173 36.9552,-213.432\"/>\n",
       "<polygon fill=\"#000000\" stroke=\"#000000\" points=\"40.3752,-214.1968 39.6802,-203.6248 33.6307,-212.3228 40.3752,-214.1968\"/>\n",
       "</g>\n",
       "<!-- t1 -->\n",
       "<g id=\"node2\" class=\"node\">\n",
       "<title>t1</title>\n",
       "<ellipse fill=\"none\" stroke=\"#000000\" cx=\"47.4469\" cy=\"-330.4503\" rx=\"18\" ry=\"18\"/>\n",
       "<text text-anchor=\"middle\" x=\"47.4469\" y=\"-326.2503\" font-family=\"Times,serif\" font-size=\"14.00\" fill=\"#000000\">t1</text>\n",
       "</g>\n",
       "<!-- t1&#45;&gt;t2 -->\n",
       "<g id=\"edge2\" class=\"edge\">\n",
       "<title>t1&#45;&gt;t2</title>\n",
       "<path fill=\"none\" stroke=\"#000000\" d=\"M41.8792,-313.0211C39.2236,-304.7078 35.9868,-294.5751 33.0264,-285.308\"/>\n",
       "<polygon fill=\"#000000\" stroke=\"#000000\" points=\"36.3403,-284.1797 29.9633,-275.719 29.6723,-286.3098 36.3403,-284.1797\"/>\n",
       "</g>\n",
       "<!-- t1&#45;&gt;MA2 -->\n",
       "<g id=\"edge3\" class=\"edge\">\n",
       "<title>t1&#45;&gt;MA2</title>\n",
       "<path fill=\"none\" stroke=\"#000000\" d=\"M49.1133,-312.4688C50.0021,-301.9749 51.0021,-288.4749 51.4469,-276.4503 52.1969,-256.1703 51.448,-233.5972 50.4036,-214.9639\"/>\n",
       "<polygon fill=\"#000000\" stroke=\"#000000\" points=\"53.8847,-214.5453 49.7822,-204.7769 46.8977,-214.9715 53.8847,-214.5453\"/>\n",
       "</g>\n",
       "<!-- S1 -->\n",
       "<g id=\"node4\" class=\"node\">\n",
       "<title>S1</title>\n",
       "<ellipse fill=\"#cccccc\" stroke=\"#000000\" cx=\"19.4469\" cy=\"-91.4469\" rx=\"19.3939\" ry=\"19.3939\"/>\n",
       "<text text-anchor=\"middle\" x=\"19.4469\" y=\"-87.2469\" font-family=\"Times,serif\" font-size=\"14.00\" fill=\"#000000\">S1</text>\n",
       "</g>\n",
       "<!-- MA2&#45;&gt;S1 -->\n",
       "<g id=\"edge4\" class=\"edge\">\n",
       "<title>MA2&#45;&gt;S1</title>\n",
       "<path fill=\"none\" stroke=\"#000000\" d=\"M38.2786,-148.0935C35.2657,-139.0306 31.9125,-128.9441 28.8803,-119.823\"/>\n",
       "<polygon fill=\"#000000\" stroke=\"#000000\" points=\"32.1044,-118.4264 25.6284,-110.0412 25.4619,-120.6348 32.1044,-118.4264\"/>\n",
       "</g>\n",
       "<!-- S2 -->\n",
       "<g id=\"node6\" class=\"node\">\n",
       "<title>S2</title>\n",
       "<ellipse fill=\"#cccccc\" stroke=\"#000000\" cx=\"76.4469\" cy=\"-91.4469\" rx=\"19.3939\" ry=\"19.3939\"/>\n",
       "<text text-anchor=\"middle\" x=\"76.4469\" y=\"-87.2469\" font-family=\"Times,serif\" font-size=\"14.00\" fill=\"#000000\">S2</text>\n",
       "</g>\n",
       "<!-- MA2&#45;&gt;S2 -->\n",
       "<g id=\"edge5\" class=\"edge\">\n",
       "<title>MA2&#45;&gt;S2</title>\n",
       "<path fill=\"none\" stroke=\"#000000\" d=\"M56.9426,-148.0935C60.0966,-138.9332 63.6107,-128.727 66.7777,-119.5291\"/>\n",
       "<polygon fill=\"#000000\" stroke=\"#000000\" points=\"70.0982,-120.6359 70.0445,-110.0412 63.4796,-118.357 70.0982,-120.6359\"/>\n",
       "</g>\n",
       "<!-- d -->\n",
       "<g id=\"node5\" class=\"node\">\n",
       "<title>d</title>\n",
       "<ellipse fill=\"none\" stroke=\"#000000\" cx=\"47.4469\" cy=\"-18\" rx=\"18\" ry=\"18\"/>\n",
       "<text text-anchor=\"middle\" x=\"47.4469\" y=\"-13.8\" font-family=\"Times,serif\" font-size=\"14.00\" fill=\"#000000\">d</text>\n",
       "</g>\n",
       "<!-- S1&#45;&gt;d -->\n",
       "<g id=\"edge6\" class=\"edge\">\n",
       "<title>S1&#45;&gt;d</title>\n",
       "<path fill=\"none\" stroke=\"#000000\" d=\"M26.5124,-72.9131C29.7485,-64.4245 33.646,-54.2012 37.1961,-44.8887\"/>\n",
       "<polygon fill=\"#000000\" stroke=\"#000000\" points=\"40.5726,-45.8573 40.8644,-35.2664 34.0317,-43.3637 40.5726,-45.8573\"/>\n",
       "</g>\n",
       "<!-- S2&#45;&gt;d -->\n",
       "<g id=\"edge7\" class=\"edge\">\n",
       "<title>S2&#45;&gt;d</title>\n",
       "<path fill=\"none\" stroke=\"#000000\" d=\"M69.2783,-73.2915C65.8425,-64.5897 61.6614,-54.0004 57.8813,-44.4269\"/>\n",
       "<polygon fill=\"#000000\" stroke=\"#000000\" points=\"61.0633,-42.9553 54.1353,-34.9395 54.5525,-45.5262 61.0633,-42.9553\"/>\n",
       "</g>\n",
       "</g>\n",
       "</svg>\n"
      ],
      "text/plain": [
       "<graphviz.dot.Digraph at 0x118f82908>"
      ]
     },
     "execution_count": 24,
     "metadata": {},
     "output_type": "execute_result"
    }
   ],
   "source": [
    "ma2M = elfi.examples.ma2.get_model(seed_obs=4)\n",
    "elfi.draw(ma2M)"
   ]
  },
  {
   "cell_type": "markdown",
   "metadata": {},
   "source": [
    "Replace the summaries S1 and S2 with our R autocovariance function."
   ]
  },
  {
   "cell_type": "code",
   "execution_count": 25,
   "metadata": {},
   "outputs": [
    {
     "data": {
      "text/plain": [
       "Method: Rejection\n",
       "Number of samples: 100\n",
       "Number of simulations: 10000\n",
       "Threshold: 0.113\n",
       "Sample means: t1: 0.602, t2: 0.178"
      ]
     },
     "execution_count": 25,
     "metadata": {},
     "output_type": "execute_result"
    }
   ],
   "source": [
    "# Replace with Matlab distance implementation\n",
    "d = elfi.Distance(euclidean_M, ma2M['S1'], ma2M['S2'])\n",
    "ma2M['d'].become(d)\n",
    "\n",
    "# Run the inference\n",
    "rej = elfi.Rejection(ma2M, 'd', batch_size=1000, seed=seed)\n",
    "rej.sample(100)"
   ]
  },
  {
   "cell_type": "markdown",
   "metadata": {},
   "source": [
    "Finally, don't forget to quit the MATLAB session:"
   ]
  },
  {
   "cell_type": "code",
   "execution_count": 26,
   "metadata": {
    "collapsed": true
   },
   "outputs": [],
   "source": [
    "eng.quit()"
   ]
  },
  {
   "cell_type": "markdown",
   "metadata": {},
   "source": [
    "## Verdict\n",
    "\n",
    "We showed here a few examples of how to incorporate non Python operations to ELFI models. There are multiple other ways to achieve the same results and even make the wrapping more efficient.\n",
    "\n",
    "Wrapping often introduces some overhead to the evaluation of the generative model. In many cases however this is not an issue since the operations are usually expensive by themselves making the added overhead insignificant."
   ]
  },
  {
   "cell_type": "markdown",
   "metadata": {
    "collapsed": true
   },
   "source": [
    "### References\n",
    "- [1] Jarno Lintusaari, Michael U. Gutmann, Ritabrata Dutta, Samuel Kaski, Jukka Corander; Fundamentals and Recent Developments in Approximate Bayesian Computation. Syst Biol 2017; 66 (1): e66-e82. doi: 10.1093/sysbio/syw077\n",
    "- [2] Tanaka, Mark M., et al. \"Using approximate Bayesian computation to estimate\n",
    "tuberculosis transmission parameters from genotype data.\"\n",
    "Genetics 173.3 (2006): 1511-1520.\n"
   ]
  }
 ],
 "metadata": {
  "anaconda-cloud": {},
  "celltoolbar": "Initialization Cell",
  "kernelspec": {
   "display_name": "Python 3",
   "language": "python",
   "name": "python3"
  },
  "language_info": {
   "codemirror_mode": {
    "name": "ipython",
    "version": 3
   },
   "file_extension": ".py",
   "mimetype": "text/x-python",
   "name": "python",
   "nbconvert_exporter": "python",
   "pygments_lexer": "ipython3",
   "version": "3.6.3"
  },
  "toc": {
   "nav_menu": {},
   "number_sections": true,
   "sideBar": true,
   "skip_h1_title": false,
   "title_cell": "Table of Contents",
   "title_sidebar": "Contents",
   "toc_cell": true,
   "toc_position": {},
   "toc_section_display": true,
   "toc_window_display": false
  }
 },
 "nbformat": 4,
 "nbformat_minor": 1
}
